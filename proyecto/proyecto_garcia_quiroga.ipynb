{
  "nbformat": 4,
  "nbformat_minor": 0,
  "metadata": {
    "colab": {
      "provenance": [],
      "authorship_tag": "ABX9TyO+9zaZfs9+ckcuQcNxmJIp",
      "include_colab_link": true
    },
    "kernelspec": {
      "name": "python3",
      "display_name": "Python 3"
    },
    "language_info": {
      "name": "python"
    }
  },
  "cells": [
    {
      "cell_type": "markdown",
      "metadata": {
        "id": "view-in-github",
        "colab_type": "text"
      },
      "source": [
        "<a href=\"https://colab.research.google.com/github/jsebastianquiroga/IMAGE_VIDEO_PROCESSING_PUJ/blob/main/proyecto/proyecto_garcia_quiroga.ipynb\" target=\"_parent\"><img src=\"https://colab.research.google.com/assets/colab-badge.svg\" alt=\"Open In Colab\"/></a>"
      ]
    },
    {
      "cell_type": "code",
      "source": [
        "# Instalar la API de Kaggle\n",
        "!pip install -q kaggle"
      ],
      "metadata": {
        "id": "qPUwjVd8gbEo"
      },
      "execution_count": 1,
      "outputs": []
    },
    {
      "cell_type": "code",
      "execution_count": null,
      "metadata": {
        "id": "2rc-4cUjf-C7",
        "outputId": "64a2f2e8-f329-4b87-82a1-cd5215eb2923",
        "colab": {
          "base_uri": "https://localhost:8080/"
        }
      },
      "outputs": [
        {
          "output_type": "stream",
          "name": "stdout",
          "text": [
            "--2023-09-14 02:53:48--  https://raw.githubusercontent.com/jsebastianquiroga/IMAGE_VIDEO_PROCESSING_PUJ/main/proyecto/kaggle.json\n",
            "Resolving raw.githubusercontent.com (raw.githubusercontent.com)... 185.199.108.133, 185.199.109.133, 185.199.110.133, ...\n",
            "Connecting to raw.githubusercontent.com (raw.githubusercontent.com)|185.199.108.133|:443... connected.\n",
            "HTTP request sent, awaiting response... 200 OK\n",
            "Length: 68 [text/plain]\n",
            "Saving to: ‘kaggle.json.1’\n",
            "\n",
            "\rkaggle.json.1         0%[                    ]       0  --.-KB/s               \rkaggle.json.1       100%[===================>]      68  --.-KB/s    in 0s      \n",
            "\n",
            "2023-09-14 02:53:48 (2.83 MB/s) - ‘kaggle.json.1’ saved [68/68]\n",
            "\n",
            "mkdir: cannot create directory ‘/root/.kaggle’: File exists\n",
            "mias-mammography.zip: Skipping, found more recently modified local copy (use --force to force download)\n",
            "Archive:  mias-mammography.zip\n",
            "replace Info.txt? [y]es, [n]o, [A]ll, [N]one, [r]ename: "
          ]
        }
      ],
      "source": [
        "# Descargar el archivo kaggle.json desde tu repositorio de GitHub\n",
        "!wget https://raw.githubusercontent.com/jsebastianquiroga/IMAGE_VIDEO_PROCESSING_PUJ/main/proyecto/kaggle.json\n",
        "\n",
        "# Preparar el archivo de credenciales\n",
        "!mkdir ~/.kaggle\n",
        "!cp kaggle.json ~/.kaggle/\n",
        "!chmod 600 ~/.kaggle/kaggle.json\n",
        "\n",
        "# Descargar el conjunto de datos\n",
        "!kaggle datasets download -d kmader/mias-mammography\n",
        "\n",
        "# Descomprimir el conjunto de datos\n",
        "!unzip mias-mammography.zip"
      ]
    },
    {
      "cell_type": "markdown",
      "source": [
        "# Muestreo.\n",
        "\n",
        "Se toma el top 50  para el procesamiento."
      ],
      "metadata": {
        "id": "PJsVX5WDggEY"
      }
    },
    {
      "cell_type": "code",
      "source": [
        "import os\n",
        "import random\n",
        "import cv2\n",
        "import matplotlib.pyplot as plt\n",
        "\n",
        "# Listar todas las imágenes disponibles\n",
        "all_images = os.listdir('all-mias')\n",
        "\n",
        "# Muestrear 50 imágenes aleatoriamente\n",
        "sampled_images = random.sample(all_images, 50)"
      ],
      "metadata": {
        "id": "YYzfrPaogpwF"
      },
      "execution_count": null,
      "outputs": []
    },
    {
      "cell_type": "code",
      "source": [
        "import shutil\n",
        "import os\n",
        "from google.colab import drive\n",
        "drive.mount('/content/drive')\n",
        "\n",
        "def copy_to_drive(folder_id, local_path):\n",
        "    # Path to your folder in Google Drive\n",
        "    drive_path = os.path.join(\"/content/drive/My Drive/\", folder_id, os.path.basename(local_path))\n",
        "\n",
        "    # Check if the directory exists. If not, create it.\n",
        "    if not os.path.exists(drive_path):\n",
        "        os.makedirs(drive_path)\n",
        "\n",
        "    # Copy individual files from local folder to Google Drive folder\n",
        "    for file in os.listdir(local_path):\n",
        "        shutil.copy(os.path.join(local_path, file), drive_path)\n",
        "\n",
        "# Crear la carpeta \"muestreo\" si no existe\n",
        "if not os.path.exists('./muestreo'):\n",
        "    os.makedirs('./muestreo')\n",
        "\n",
        "# Copiar las imágenes muestreadas a la carpeta \"muestreo\"\n",
        "for image in sampled_images:\n",
        "    shutil.copy(os.path.join('all-mias', image), './muestreo')\n",
        "\n",
        "# Ahora, utiliza la función copy_to_drive que definimos anteriormente para copiar la carpeta a Google Drive\n",
        "copy_to_drive(\"19sU2JfSIY5OZVyJyRqFvLZAaS0um5R4f\", \"./muestreo\")"
      ],
      "metadata": {
        "id": "yadg4cAElEp4"
      },
      "execution_count": null,
      "outputs": []
    },
    {
      "cell_type": "markdown",
      "source": [
        "# Aplicar técnicas de procesamiento de imágenes"
      ],
      "metadata": {
        "id": "e9F4DV3Hgw1D"
      }
    },
    {
      "cell_type": "code",
      "source": [
        "import shutil\n",
        "\n",
        "# Crear la carpeta \"muestreo\" si no existe\n",
        "if not os.path.exists('./muestreo'):\n",
        "    os.makedirs('./muestreo')\n",
        "\n",
        "# Copiar las imágenes muestreadas a la carpeta \"muestreo\"\n",
        "for image in sampled_images:\n",
        "    shutil.copy(os.path.join('all-mias', image), './muestreo')\n",
        "\n",
        "# Ahora, utiliza la función copy_to_drive que definimos anteriormente para copiar la carpeta a Google Drive\n",
        "copy_to_drive(\"19sU2JfSIY5OZVyJyRqFvLZAaS0um5R4f\", \"./muestreo\")\n",
        "# Elegir una imagen al azar de las 50 muestreadas\n",
        "random_image_path = os.path.join('all-mias', random.choice(sampled_images))\n",
        "image = cv2.imread(random_image_path, cv2.IMREAD_GRAYSCALE)\n",
        "\n",
        "# Mostrar la imagen original\n",
        "plt.imshow(image, cmap='gray')\n",
        "plt.title('Imagen Original')\n",
        "plt.show()\n",
        "\n",
        "# Umbralización\n",
        "_, thresh = cv2.threshold(image, 127, 255, cv2.THRESH_BINARY)\n",
        "plt.imshow(thresh, cmap='gray')\n",
        "plt.title('Umbralización')\n",
        "plt.show()\n",
        "\n",
        "# Morfología Matemática: Erosión\n",
        "kernel = cv2.getStructuringElement(cv2.MORPH_RECT, (5,5))\n",
        "eroded = cv2.erode(image, kernel, iterations=1)\n",
        "plt.imshow(eroded, cmap='gray')\n",
        "plt.title('Erosión')\n",
        "plt.show()\n",
        "\n",
        "# Filtrado por el método de Otsu\n",
        "_, otsu = cv2.threshold(image, 0, 255, cv2.THRESH_BINARY + cv2.THRESH_OTSU)\n",
        "plt.imshow(otsu, cmap='gray')\n",
        "plt.title('Método de Otsu')\n",
        "plt.show()"
      ],
      "metadata": {
        "id": "_ooMKA83gsML"
      },
      "execution_count": null,
      "outputs": []
    }
  ]
}
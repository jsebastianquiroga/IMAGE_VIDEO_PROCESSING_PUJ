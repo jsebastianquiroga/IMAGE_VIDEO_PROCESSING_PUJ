{
  "nbformat": 4,
  "nbformat_minor": 0,
  "metadata": {
    "colab": {
      "provenance": [],
      "authorship_tag": "ABX9TyNwu7oNiWibWhe1U+rnVk6V",
      "include_colab_link": true
    },
    "kernelspec": {
      "name": "python3",
      "display_name": "Python 3"
    },
    "language_info": {
      "name": "python"
    }
  },
  "cells": [
    {
      "cell_type": "markdown",
      "metadata": {
        "id": "view-in-github",
        "colab_type": "text"
      },
      "source": [
        "<a href=\"https://colab.research.google.com/github/jsebastianquiroga/IMAGE_VIDEO_PROCESSING_PUJ/blob/main/Talleres/Taller_1.ipynb\" target=\"_parent\"><img src=\"https://colab.research.google.com/assets/colab-badge.svg\" alt=\"Open In Colab\"/></a>"
      ]
    },
    {
      "cell_type": "markdown",
      "source": [
        "Taller 1\n",
        "Procesamiento de Imágenes y Video\n",
        "Reciben como imagen para procesar el archivo adjunto a este enunciado, ahora bien deben realizar los siguientes análisis y desarrollar los métodos que los solucionan:\n",
        "1. Extraer una pelota de color a la vez hasta completar 4 de las seis pelotas de colores. Explique los métodos de procesamiento de color utilizados y si fuera el caso explique si no se extrae la totalidad de la pelota, por qué puede pasar este fenómeno.\n",
        "Deben entregar los códigos desarrollados para este taller documentados y un informe que justifique las decisiones en el diseño de la solución.\n",
        "Buena suerte !!!"
      ],
      "metadata": {
        "id": "XHsoZS01pmyA"
      }
    },
    {
      "cell_type": "markdown",
      "source": [],
      "metadata": {
        "id": "B2pP8WfjpmpI"
      }
    },
    {
      "cell_type": "code",
      "execution_count": null,
      "metadata": {
        "id": "6uXgLOnRpj89"
      },
      "outputs": [],
      "source": []
    }
  ]
}